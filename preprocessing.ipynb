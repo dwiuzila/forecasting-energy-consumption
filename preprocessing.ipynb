{
 "cells": [
  {
   "cell_type": "code",
   "execution_count": 1,
   "metadata": {},
   "outputs": [
    {
     "name": "stderr",
     "output_type": "stream",
     "text": [
      "C:\\Users\\ID20178\\Anaconda3\\lib\\site-packages\\numpy\\lib\\arraysetops.py:569: FutureWarning: elementwise comparison failed; returning scalar instead, but in the future will perform elementwise comparison\n",
      "  mask |= (ar1 == a)\n"
     ]
    }
   ],
   "source": [
    "# Pandas and numpy for data manipulation\n",
    "import pandas as pd\n",
    "import numpy as np\n",
    "\n",
    "# Original data\n",
    "train = pd.read_csv('power-laws-forecasting-energy-consumption-training-data.csv', sep=';', index_col=0)\n",
    "test = pd.read_csv('power-laws-forecasting-energy-consumption-submission-format.csv', sep=';', index_col=0)\n",
    "\n",
    "weather = pd.read_csv('power-laws-forecasting-energy-consumption-weather.csv', sep=';')\n",
    "meta = pd.read_csv('power-laws-forecasting-energy-consumption-metadata.csv', sep=';')"
   ]
  },
  {
   "cell_type": "code",
   "execution_count": 2,
   "metadata": {},
   "outputs": [],
   "source": [
    "# Extrac features and convert the time into cyclical variables\n",
    "def process_time(df):\n",
    "    \n",
    "    # Convert timestamp into a pandas datatime object\n",
    "    df['Timestamp'] = pd.to_datetime(df['Timestamp'])\n",
    "    df = df.set_index('Timestamp')\n",
    "    \n",
    "    # Extract units of time from the timestamp\n",
    "    df['min'] = df.index.minute\n",
    "    df['hour'] = df.index.hour\n",
    "    df['wday'] = df.index.dayofweek\n",
    "    df['mday'] = df.index.day\n",
    "    df['yday'] = df.index.dayofyear\n",
    "    df['month'] = df.index.month\n",
    "    df['year'] = df.index.year\n",
    "    \n",
    "    # Create a time of day to represent hours and minutes\n",
    "    df['time'] = df['hour'] + (df['min'] / 60)\n",
    "    df = df.drop(columns=['hour', 'min'])\n",
    "    \n",
    "    # Cyclical variable transformations\n",
    "    \n",
    "    # wday has period of 6\n",
    "    df['wday_sin'] = np.sin(2 * np.pi * df['wday'] / 6)\n",
    "    df['wday_cos'] = np.cos(2 * np.pi * df['wday'] / 6)\n",
    "    \n",
    "    # yday has period of 365\n",
    "    df['yday_sin'] = np.sin(2 * np.pi * df['yday'] / 365)\n",
    "    df['yday_cos'] = np.cos(2 * np.pi * df['yday'] / 365)\n",
    "    \n",
    "    # month has period of 12\n",
    "    df['month_sin'] = np.sin(2 * np.pi * df['month'] / 12)\n",
    "    df['month_cos'] = np.cos(2 * np.pi * df['month'] / 12)\n",
    "    \n",
    "    # time has period of 24\n",
    "    df['time_sin'] = np.sin(2 * np.pi * df['time'] / 24)\n",
    "    df['time_cos'] = np.cos(2 * np.pi * df['time'] / 24)\n",
    "    \n",
    "    # turn the index into a column\n",
    "    df = df.reset_index(level=0)\n",
    "    \n",
    "    return df"
   ]
  },
  {
   "cell_type": "code",
   "execution_count": 3,
   "metadata": {},
   "outputs": [],
   "source": [
    "# Feature engineering of the time for train and test\n",
    "train = process_time(train)\n",
    "test = process_time(test)"
   ]
  },
  {
   "cell_type": "code",
   "execution_count": 4,
   "metadata": {},
   "outputs": [],
   "source": [
    "# Function to add weather information into a dataset\n",
    "def add_weather(df, weather):\n",
    "    \n",
    "    # Keep track of the original length of the dataset\n",
    "    original_length = len(df)\n",
    "    \n",
    "    # Convert timestamp to a pandas datetime object\n",
    "    weather['Timestamp'] = pd.to_datetime(weather['Timestamp'])\n",
    "    weather = weather.set_index('Timestamp')\n",
    "    \n",
    "    # Round the  weather data to the nearest 15 minutes\n",
    "    weather.index = weather.index.round(freq='15 min')\n",
    "    weather = weather.reset_index(level=0)\n",
    "    \n",
    "    # Merge the building data with the weather data\n",
    "    df = pd.merge(df, weather, how = 'left', on = ['Timestamp', 'SiteId'])\n",
    "    \n",
    "    # Drop the duplicate temperature measurements, keeping the closest location\n",
    "    df = df.sort_values(['Timestamp', 'SiteId', 'Distance'])\n",
    "    df = df.drop_duplicates(['Timestamp', 'SiteId'], keep='first')\n",
    "    \n",
    "    # Checking length of new data\n",
    "    new_length = len(df)\n",
    "    \n",
    "    # Check to make sure the length of the dataset has not changed\n",
    "    assert original_length == new_length, 'New Length must match original length'\n",
    "\n",
    "    return df"
   ]
  },
  {
   "cell_type": "code",
   "execution_count": 5,
   "metadata": {},
   "outputs": [],
   "source": [
    "# Get weather information for both train and test data\n",
    "train = add_weather(train, weather)\n",
    "test = add_weather(test, weather)"
   ]
  },
  {
   "cell_type": "code",
   "execution_count": 6,
   "metadata": {},
   "outputs": [],
   "source": [
    "# List of ids and new dataframe to hold meta information\n",
    "id_list = set(meta['SiteId'])\n",
    "all_meta = pd.DataFrame(columns=['SiteId', 'wday', 'off'])"
   ]
  },
  {
   "cell_type": "code",
   "execution_count": 7,
   "metadata": {},
   "outputs": [],
   "source": [
    "# Iterate through each site and find days off\n",
    "for site in id_list:\n",
    "    # Extract the metadata information for the site\n",
    "    meta_slice = meta[meta['SiteId'] == site]\n",
    "    \n",
    "    # Create a new dataframe for the site\n",
    "    site_meta = pd.DataFrame(columns=['SiteId', 'wday', 'off'],\n",
    "                            index = [0, 1, 2, 3, 4, 5, 6])\n",
    "    \n",
    "    site_meta['wday'] = [0, 1, 2, 3, 4, 5, 6]\n",
    "    site_meta['SiteId'] = site\n",
    "    \n",
    "    # Record the days off\n",
    "    site_meta.loc[0, 'off'] = float(meta_slice['MondayIsDayOff'])\n",
    "    site_meta.loc[1, 'off'] = float(meta_slice['TuesdayIsDayOff'])\n",
    "    site_meta.loc[2, 'off'] = float(meta_slice['WednesdayIsDayOff'])\n",
    "    site_meta.loc[3, 'off'] = float(meta_slice['ThursdayIsDayOff'])\n",
    "    site_meta.loc[4, 'off'] = float(meta_slice['FridayIsDayOff'])\n",
    "    site_meta.loc[5, 'off'] = float(meta_slice['SaturdayIsDayOff'])\n",
    "    site_meta.loc[6, 'off'] = float(meta_slice['SundayIsDayOff'])\n",
    "    \n",
    "    # Append the resulting dataframe to all site dataframe\n",
    "    all_meta = all_meta.append(site_meta) "
   ]
  },
  {
   "cell_type": "code",
   "execution_count": 8,
   "metadata": {},
   "outputs": [],
   "source": [
    "# Find the days off in the training and testing data\n",
    "train = train.merge(all_meta, how = 'left', on = ['SiteId', 'wday'])\n",
    "test = test.merge(all_meta, how = 'left', on = ['SiteId', 'wday'])\n",
    "\n",
    "# Save files to csv\n",
    "train.to_csv('train_corrected.csv', index = False)\n",
    "test.to_csv('test_corrected.csv', index = False)"
   ]
  }
 ],
 "metadata": {
  "kernelspec": {
   "display_name": "Python 3",
   "language": "python",
   "name": "python3"
  },
  "language_info": {
   "codemirror_mode": {
    "name": "ipython",
    "version": 3
   },
   "file_extension": ".py",
   "mimetype": "text/x-python",
   "name": "python",
   "nbconvert_exporter": "python",
   "pygments_lexer": "ipython3",
   "version": "3.7.6"
  }
 },
 "nbformat": 4,
 "nbformat_minor": 4
}
